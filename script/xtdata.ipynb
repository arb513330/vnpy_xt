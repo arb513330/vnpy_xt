{
 "cells": [
  {
   "cell_type": "markdown",
   "id": "978fb938-7fff-4c63-ab43-8495e05dfa1e",
   "metadata": {},
   "source": [
    "数据字典地址：http://docs.thinktrader.net/pages/7c0936/\n",
    "若下载报错timeout，可在客户端右下角点击【行情】，打开行情源窗口，点击【调度任务】标签页，查看窗口下方“下载信息”处是否有下载客户端下载数据显示。若客户端有正在下载中的任务，可等待客户端下载任务完成后再尝试使用脚本中的函数下载，或中止客户端下载任务后再运行脚本中的下载函数。"
   ]
  },
  {
   "cell_type": "code",
   "execution_count": 1,
   "id": "cc8d3d17-28bb-42a9-aea7-95879d9a5994",
   "metadata": {},
   "outputs": [],
   "source": [
    "from xtquant.xtdata import (\n",
    "    subscribe_quote,\n",
    "    get_full_tick,\n",
    "    get_instrument_detail,\n",
    "    get_local_data,\n",
    "    download_history_data,\n",
    "    get_stock_list_in_sector,\n",
    "    get_option_detail_data,\n",
    "    get_period_list,\n",
    "    download_financial_data,\n",
    "    get_financial_data,\n",
    "    get_market_data_ex\n",
    ")"
   ]
  },
  {
   "cell_type": "code",
   "execution_count": 2,
   "id": "6c9ca23f-6978-419d-b679-d077694e0ac6",
   "metadata": {
    "collapsed": true,
    "jupyter": {
     "outputs_hidden": true
    },
    "tags": []
   },
   "outputs": [
    {
     "data": {
      "text/plain": [
       "{}"
      ]
     },
     "execution_count": 2,
     "metadata": {},
     "output_type": "execute_result"
    }
   ],
   "source": [
    "get_full_tick([\"SZO\"])"
   ]
  },
  {
   "cell_type": "code",
   "execution_count": 3,
   "id": "4aea61d2-aab4-4189-b19f-862ec22d6a34",
   "metadata": {
    "collapsed": true,
    "jupyter": {
     "outputs_hidden": true
    },
    "tags": []
   },
   "outputs": [
    {
     "name": "stdout",
     "output_type": "stream",
     "text": [
      "2337\n"
     ]
    }
   ],
   "source": [
    "# 期权过期合约查询\n",
    "# get_stock_list_in_sector(\"过期中金所\")\n",
    "# get_stock_list_in_sector(\"过期上证期权\")\n",
    "l = get_stock_list_in_sector(\"过期深证期权\")\n",
    "print(len(l))"
   ]
  },
  {
   "cell_type": "code",
   "execution_count": null,
   "id": "1f76b380-9d30-4dde-a2b6-913193b49b60",
   "metadata": {
    "collapsed": true,
    "jupyter": {
     "outputs_hidden": true
    },
    "tags": []
   },
   "outputs": [],
   "source": [
    "# 获取期权合约信息\n",
    "get_instrument_detail(\"90000001.SZO\", True)"
   ]
  },
  {
   "cell_type": "code",
   "execution_count": null,
   "id": "7a04439d-b14f-48a9-9269-420a0c7c2c58",
   "metadata": {
    "collapsed": true,
    "jupyter": {
     "outputs_hidden": true
    },
    "tags": []
   },
   "outputs": [],
   "source": [
    "# 期权数据（1d也支持）\n",
    "download_history_data(\"90000001.SZO\", \"1m\", \"20200101\", \"20200112\")\n",
    "data1 = get_local_data([], [\"90000001.SZO\"], \"1m\", \"20200101\", \"20200112\")\n",
    "data1"
   ]
  },
  {
   "cell_type": "code",
   "execution_count": 9,
   "id": "32f8a0db",
   "metadata": {},
   "outputs": [
    {
     "data": {
      "text/plain": [
       "{'rb2401.SF':                          time    open    high     low   close  volume  \\\n",
       " 20231026090100  1698282060000  3665.0  3669.0  3665.0  3667.0    7834   \n",
       " 20231026090200  1698282120000  3668.0  3668.0  3666.0  3668.0    3807   \n",
       " 20231026090300  1698282180000  3668.0  3669.0  3665.0  3666.0    4264   \n",
       " 20231026090400  1698282240000  3666.0  3669.0  3666.0  3668.0    2269   \n",
       " 20231026090500  1698282300000  3668.0  3668.0  3666.0  3667.0    1518   \n",
       " 20231026090600  1698282360000  3666.0  3668.0  3665.0  3667.0    2110   \n",
       " 20231026090700  1698282420000  3667.0  3670.0  3667.0  3670.0    5328   \n",
       " 20231026090800  1698282480000  3669.0  3670.0  3669.0  3669.0     206   \n",
       " \n",
       "                      amount  settelementPrice  openInterest  preClose  \\\n",
       " 20231026090100  287264340.0               0.0       1762615    3665.0   \n",
       " 20231026090200  139616890.0               0.0       1762851    3667.0   \n",
       " 20231026090300  156379480.0               0.0       1763036    3668.0   \n",
       " 20231026090400   83222740.0               0.0       1763346    3666.0   \n",
       " 20231026090500   55658560.0               0.0       1763165    3668.0   \n",
       " 20231026090600   77360440.0               0.0       1763353    3667.0   \n",
       " 20231026090700  195490910.0               0.0       1763522    3667.0   \n",
       " 20231026090800    7559210.0               0.0       1763524    3670.0   \n",
       " \n",
       "                 suspendFlag  \n",
       " 20231026090100            0  \n",
       " 20231026090200            0  \n",
       " 20231026090300            0  \n",
       " 20231026090400            0  \n",
       " 20231026090500            0  \n",
       " 20231026090600            0  \n",
       " 20231026090700            0  \n",
       " 20231026090800            0  }"
      ]
     },
     "execution_count": 9,
     "metadata": {},
     "output_type": "execute_result"
    }
   ],
   "source": [
    "# 期货数据（1d也支持）\n",
    "download_history_data(\"rb2401.SF\", \"1m\", \"20230601\", \"20231030\")\n",
    "data1 = get_local_data([], [\"rb2401.SF\"], \"1m\", \"20231026\", \"20231030\")\n",
    "data1"
   ]
  },
  {
   "cell_type": "code",
   "execution_count": null,
   "id": "0b900ae1",
   "metadata": {},
   "outputs": [],
   "source": [
    "df = data1[\"90000001.SZO\"]\n",
    "df"
   ]
  },
  {
   "cell_type": "code",
   "execution_count": null,
   "id": "1ade0d1d-1905-4316-b1b4-ebd62cc3834c",
   "metadata": {
    "collapsed": true,
    "jupyter": {
     "outputs_hidden": true
    },
    "tags": []
   },
   "outputs": [],
   "source": [
    "# 分笔成交数据\n",
    "download_history_data(\"rb2309.SF\", \"tick\", \"20230821\", \"20230822\")\n",
    "data2 = get_local_data([], [\"rb2309.SF\"], \"tick\", \"20230821\", \"20230822\")\n",
    "data2"
   ]
  },
  {
   "cell_type": "code",
   "execution_count": null,
   "id": "7269450a-ea0c-4652-9d0d-bd31b572067a",
   "metadata": {
    "collapsed": true,
    "jupyter": {
     "outputs_hidden": true
    },
    "tags": []
   },
   "outputs": [],
   "source": [
    "# 财务数据\n",
    "download_financial_data([\"600519.SH\"])\n",
    "data3 = get_financial_data([\"600519.SH\"])\n",
    "data3"
   ]
  },
  {
   "cell_type": "code",
   "execution_count": null,
   "id": "2dbe8942-b091-4838-b205-67980b45a6ce",
   "metadata": {
    "collapsed": true,
    "jupyter": {
     "outputs_hidden": true
    },
    "tags": []
   },
   "outputs": [],
   "source": [
    "# 板块成分股列表\n",
    "get_stock_list_in_sector(\"SZO\")"
   ]
  },
  {
   "cell_type": "code",
   "execution_count": null,
   "id": "5cc3e575-aa47-41d9-ab8d-b1d757f9ba52",
   "metadata": {
    "collapsed": true,
    "jupyter": {
     "outputs_hidden": true
    },
    "tags": []
   },
   "outputs": [],
   "source": [
    "# 仓单\n",
    "download_history_data(\"\", \"warehousereceipt\")\n",
    "data4 = get_market_data_ex([], [\"rb.SF\"], period=\"warehousereceipt\")\n",
    "data4"
   ]
  },
  {
   "cell_type": "code",
   "execution_count": null,
   "id": "9ff13cb1-2793-42e7-9f2f-10f1175d552b",
   "metadata": {
    "collapsed": true,
    "jupyter": {
     "outputs_hidden": true
    },
    "tags": []
   },
   "outputs": [],
   "source": [
    "# 期货席位\n",
    "download_history_data(\"rb2401.SF\", \"futureholderrank\", \"20231011\", \"20231012\")\n",
    "data5 = get_market_data_ex([], [\"rb2401.SF\"], \"futureholderrank\")[\"rb2401.SF\"]\n",
    "data5"
   ]
  },
  {
   "cell_type": "code",
   "execution_count": null,
   "id": "aba5fac4-527f-4688-a1b8-dd68dbd66484",
   "metadata": {
    "collapsed": true,
    "jupyter": {
     "outputs_hidden": true
    },
    "tags": []
   },
   "outputs": [],
   "source": [
    "# 资金流向数据（目前只有股票数据）\n",
    "# transactioncount1m也支持\n",
    "download_history_data(\"000333.SZ\", \"transactioncount1d\")\n",
    "data6 = get_market_data_ex([], [\"000333.SZ\"], period=\"transactioncount1d\")\n",
    "data6"
   ]
  },
  {
   "cell_type": "code",
   "execution_count": null,
   "id": "51ec686f-d93f-42a6-9f97-bca9c7c75bdc",
   "metadata": {
    "collapsed": true,
    "jupyter": {
     "outputs_hidden": true
    },
    "tags": []
   },
   "outputs": [],
   "source": [
    "# 港股资金流向\n",
    "# northfinancechange1d也支持\n",
    "download_history_data(\"FFFFFF.SGT\", \"northfinancechange1d\")\n",
    "data7 = get_market_data_ex([], [\"FFFFFF.SGT\"], period=\"northfinancechange1d\")\n",
    "data7"
   ]
  },
  {
   "cell_type": "code",
   "execution_count": null,
   "id": "191e22b6-77c8-4976-a0dd-ea6f0337edf2",
   "metadata": {},
   "outputs": [],
   "source": []
  }
 ],
 "metadata": {
  "kernelspec": {
   "display_name": "Python 3 (ipykernel)",
   "language": "python",
   "name": "python3"
  },
  "language_info": {
   "codemirror_mode": {
    "name": "ipython",
    "version": 3
   },
   "file_extension": ".py",
   "mimetype": "text/x-python",
   "name": "python",
   "nbconvert_exporter": "python",
   "pygments_lexer": "ipython3",
   "version": "3.10.2"
  }
 },
 "nbformat": 4,
 "nbformat_minor": 5
}

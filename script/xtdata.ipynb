{
 "cells": [
  {
   "cell_type": "markdown",
   "id": "978fb938-7fff-4c63-ab43-8495e05dfa1e",
   "metadata": {},
   "source": [
    "数据字典地址：http://docs.thinktrader.net/pages/7c0936/\n",
    "若下载报错timeout，可在客户端右下角点击【行情】，打开行情源窗口，点击【调度任务】标签页，查看窗口下方“下载信息”处是否有下载客户端下载数据显示。若客户端有正在下载中的任务，可等待客户端下载任务完成后再尝试使用脚本中的函数下载，或中止客户端下载任务后再运行脚本中的下载函数。"
   ]
  },
  {
   "cell_type": "code",
   "execution_count": 1,
   "id": "cc8d3d17-28bb-42a9-aea7-95879d9a5994",
   "metadata": {},
   "outputs": [],
   "source": [
    "from xtquant.xtdata import (\n",
    "    subscribe_quote,\n",
    "    get_full_tick,\n",
    "    get_instrument_detail,\n",
    "    get_local_data,\n",
    "    download_history_data,\n",
    "    get_stock_list_in_sector,\n",
    "    get_option_detail_data,\n",
    "    get_period_list,\n",
    "    download_financial_data,\n",
    "    get_financial_data,\n",
    "    get_market_data_ex\n",
    ")"
   ]
  },
  {
   "cell_type": "code",
   "execution_count": 2,
   "id": "6c9ca23f-6978-419d-b679-d077694e0ac6",
   "metadata": {
    "collapsed": true,
    "jupyter": {
     "outputs_hidden": true
    },
    "tags": []
   },
   "outputs": [
    {
     "data": {
      "text/plain": [
       "{}"
      ]
     },
     "execution_count": 2,
     "metadata": {},
     "output_type": "execute_result"
    }
   ],
   "source": [
    "get_full_tick([\"SZO\"])"
   ]
  },
  {
   "cell_type": "code",
   "execution_count": 3,
   "id": "4aea61d2-aab4-4189-b19f-862ec22d6a34",
   "metadata": {
    "collapsed": true,
    "jupyter": {
     "outputs_hidden": true
    },
    "tags": []
   },
   "outputs": [
    {
     "name": "stdout",
     "output_type": "stream",
     "text": [
      "2337\n"
     ]
    }
   ],
   "source": [
    "# 期权过期合约查询\n",
    "# get_stock_list_in_sector(\"过期中金所\")\n",
    "# get_stock_list_in_sector(\"过期上证期权\")\n",
    "l = get_stock_list_in_sector(\"过期深证期权\")\n",
    "print(len(l))"
   ]
  },
  {
   "cell_type": "code",
   "execution_count": null,
   "id": "1f76b380-9d30-4dde-a2b6-913193b49b60",
   "metadata": {
    "collapsed": true,
    "jupyter": {
     "outputs_hidden": true
    },
    "tags": []
   },
   "outputs": [],
   "source": [
    "# 获取期权合约信息\n",
    "get_instrument_detail(\"90000001.SZO\", True)"
   ]
  },
  {
   "cell_type": "code",
   "execution_count": null,
   "id": "7a04439d-b14f-48a9-9269-420a0c7c2c58",
   "metadata": {
    "collapsed": true,
    "jupyter": {
     "outputs_hidden": true
    },
    "tags": []
   },
   "outputs": [],
   "source": [
    "# 期权数据（1d也支持）\n",
    "download_history_data(\"90000001.SZO\", \"1m\", \"20200101\", \"20200112\")\n",
    "data1 = get_local_data([], [\"90000001.SZO\"], \"1m\", \"20200101\", \"20200112\")\n",
    "data1"
   ]
  },
  {
   "cell_type": "code",
   "execution_count": 7,
   "id": "32f8a0db",
   "metadata": {},
   "outputs": [
    {
     "data": {
      "text/plain": [
       "{'rb2401.SF':                          time    open    high     low   close  volume  \\\n",
       " 20230601090100  1685581260000  3452.0  3453.0  3448.0  3452.0     275   \n",
       " 20230601090200  1685581320000  3452.0  3452.0  3446.0  3447.0     128   \n",
       " 20230601090300  1685581380000  3447.0  3452.0  3447.0  3451.0     115   \n",
       " 20230601090400  1685581440000  3451.0  3451.0  3446.0  3447.0      30   \n",
       " 20230601090500  1685581500000  3447.0  3448.0  3445.0  3448.0     113   \n",
       " ...                       ...     ...     ...     ...     ...     ...   \n",
       " 20231025225600  1698245760000  3664.0  3666.0  3663.0  3664.0    3581   \n",
       " 20231025225700  1698245820000  3664.0  3665.0  3663.0  3665.0    1561   \n",
       " 20231025225800  1698245880000  3665.0  3667.0  3665.0  3666.0    3923   \n",
       " 20231025225900  1698245940000  3665.0  3666.0  3665.0  3666.0    1606   \n",
       " 20231025230000  1698246000000  3666.0  3666.0  3664.0  3665.0    4316   \n",
       " \n",
       "                      amount  settelementPrice  openInterest  preClose  \\\n",
       " 20230601090100    9491450.0               0.0        283832    3452.0   \n",
       " 20230601090200    4413690.0               0.0        283904    3452.0   \n",
       " 20230601090300    3966540.0               0.0        283964    3447.0   \n",
       " 20230601090400    1034260.0               0.0        283974    3451.0   \n",
       " 20230601090500    3894480.0               0.0        283985    3447.0   \n",
       " ...                     ...               ...           ...       ...   \n",
       " 20231025225600  131233350.0               0.0       1766858    3664.0   \n",
       " 20231025225700   57210850.0               0.0       1766601    3664.0   \n",
       " 20231025225800  143810910.0               0.0       1765833    3665.0   \n",
       " 20231025225900   58866760.0               0.0       1764758    3666.0   \n",
       " 20231025230000  158198950.0               0.0       1763105    3666.0   \n",
       " \n",
       "                 suspendFlag  \n",
       " 20230601090100            0  \n",
       " 20230601090200            0  \n",
       " 20230601090300            0  \n",
       " 20230601090400            0  \n",
       " 20230601090500            0  \n",
       " ...                     ...  \n",
       " 20231025225600            0  \n",
       " 20231025225700            0  \n",
       " 20231025225800            0  \n",
       " 20231025225900            0  \n",
       " 20231025230000            0  \n",
       " \n",
       " [53625 rows x 11 columns]}"
      ]
     },
     "execution_count": 7,
     "metadata": {},
     "output_type": "execute_result"
    }
   ],
   "source": [
    "# 期货数据（1d也支持）\n",
    "download_history_data(\"rb2401.SF\", \"1m\", \"20230601\", \"20231030\")\n",
    "data1 = get_local_data([], [\"rb2401.SF\"], \"1m\", \"20230601\", \"20231030\")\n",
    "data1"
   ]
  },
  {
   "cell_type": "code",
   "execution_count": null,
   "id": "0b900ae1",
   "metadata": {},
   "outputs": [],
   "source": [
    "df = data1[\"90000001.SZO\"]\n",
    "df"
   ]
  },
  {
   "cell_type": "code",
   "execution_count": null,
   "id": "1ade0d1d-1905-4316-b1b4-ebd62cc3834c",
   "metadata": {
    "collapsed": true,
    "jupyter": {
     "outputs_hidden": true
    },
    "tags": []
   },
   "outputs": [],
   "source": [
    "# 分笔成交数据\n",
    "download_history_data(\"rb2309.SF\", \"tick\", \"20230821\", \"20230822\")\n",
    "data2 = get_local_data([], [\"rb2309.SF\"], \"tick\", \"20230821\", \"20230822\")\n",
    "data2"
   ]
  },
  {
   "cell_type": "code",
   "execution_count": null,
   "id": "7269450a-ea0c-4652-9d0d-bd31b572067a",
   "metadata": {
    "collapsed": true,
    "jupyter": {
     "outputs_hidden": true
    },
    "tags": []
   },
   "outputs": [],
   "source": [
    "# 财务数据\n",
    "download_financial_data([\"600519.SH\"])\n",
    "data3 = get_financial_data([\"600519.SH\"])\n",
    "data3"
   ]
  },
  {
   "cell_type": "code",
   "execution_count": null,
   "id": "2dbe8942-b091-4838-b205-67980b45a6ce",
   "metadata": {
    "collapsed": true,
    "jupyter": {
     "outputs_hidden": true
    },
    "tags": []
   },
   "outputs": [],
   "source": [
    "# 板块成分股列表\n",
    "get_stock_list_in_sector(\"SZO\")"
   ]
  },
  {
   "cell_type": "code",
   "execution_count": null,
   "id": "5cc3e575-aa47-41d9-ab8d-b1d757f9ba52",
   "metadata": {
    "collapsed": true,
    "jupyter": {
     "outputs_hidden": true
    },
    "tags": []
   },
   "outputs": [],
   "source": [
    "# 仓单\n",
    "download_history_data(\"\", \"warehousereceipt\")\n",
    "data4 = get_market_data_ex([], [\"rb.SF\"], period=\"warehousereceipt\")\n",
    "data4"
   ]
  },
  {
   "cell_type": "code",
   "execution_count": null,
   "id": "9ff13cb1-2793-42e7-9f2f-10f1175d552b",
   "metadata": {
    "collapsed": true,
    "jupyter": {
     "outputs_hidden": true
    },
    "tags": []
   },
   "outputs": [],
   "source": [
    "# 期货席位\n",
    "download_history_data(\"rb2401.SF\", \"futureholderrank\", \"20231011\", \"20231012\")\n",
    "data5 = get_market_data_ex([], [\"rb2401.SF\"], \"futureholderrank\")[\"rb2401.SF\"]\n",
    "data5"
   ]
  },
  {
   "cell_type": "code",
   "execution_count": null,
   "id": "aba5fac4-527f-4688-a1b8-dd68dbd66484",
   "metadata": {
    "collapsed": true,
    "jupyter": {
     "outputs_hidden": true
    },
    "tags": []
   },
   "outputs": [],
   "source": [
    "# 资金流向数据（目前只有股票数据）\n",
    "# transactioncount1m也支持\n",
    "download_history_data(\"000333.SZ\", \"transactioncount1d\")\n",
    "data6 = get_market_data_ex([], [\"000333.SZ\"], period=\"transactioncount1d\")\n",
    "data6"
   ]
  },
  {
   "cell_type": "code",
   "execution_count": null,
   "id": "51ec686f-d93f-42a6-9f97-bca9c7c75bdc",
   "metadata": {
    "collapsed": true,
    "jupyter": {
     "outputs_hidden": true
    },
    "tags": []
   },
   "outputs": [],
   "source": [
    "# 港股资金流向\n",
    "# northfinancechange1d也支持\n",
    "download_history_data(\"FFFFFF.SGT\", \"northfinancechange1d\")\n",
    "data7 = get_market_data_ex([], [\"FFFFFF.SGT\"], period=\"northfinancechange1d\")\n",
    "data7"
   ]
  },
  {
   "cell_type": "code",
   "execution_count": null,
   "id": "191e22b6-77c8-4976-a0dd-ea6f0337edf2",
   "metadata": {},
   "outputs": [],
   "source": []
  }
 ],
 "metadata": {
  "kernelspec": {
   "display_name": "Python 3 (ipykernel)",
   "language": "python",
   "name": "python3"
  },
  "language_info": {
   "codemirror_mode": {
    "name": "ipython",
    "version": 3
   },
   "file_extension": ".py",
   "mimetype": "text/x-python",
   "name": "python",
   "nbconvert_exporter": "python",
   "pygments_lexer": "ipython3",
   "version": "3.10.2"
  }
 },
 "nbformat": 4,
 "nbformat_minor": 5
}
